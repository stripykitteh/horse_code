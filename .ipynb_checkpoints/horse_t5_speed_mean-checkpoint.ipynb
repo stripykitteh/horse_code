{
 "cells": [
  {
   "cell_type": "code",
   "execution_count": null,
   "id": "d474afa6",
   "metadata": {},
   "outputs": [],
   "source": [
    "# Assert minimum versions \n",
    "import sys \n",
    "assert sys.version_info >= (3, 5) \n",
    "import sklearn \n",
    "assert sklearn.__version__ >= \"0.20\" \n",
    " \n",
    "# Import packages and modules that will be used \n",
    "import numpy as np \n",
    "import pandas as pd\n",
    "from sklearn import linear_model\n",
    "from sklearn import metrics \n",
    "from sklearn.model_selection import train_test_split \n",
    "from sklearn.linear_model import SGDClassifier \n",
    "from sklearn.metrics import accuracy_score \n",
    "\n",
    "# Import and configure matplotlib \n",
    "%matplotlib inline  \n",
    "import matplotlib as mpl  \n",
    "import matplotlib.pyplot as plt \n",
    "mpl.rc('figure', dpi=120) # set good resolution\n",
    "\n",
    "# Set a seed for reproducability\n",
    "import random\n",
    "random.seed(42)\n",
    "# numpy needs a random seed, too\n",
    "np.random.seed(42)\n",
    "\n",
    "import datetime\n",
    "from datetime import date"
   ]
  }
 ],
 "metadata": {
  "kernelspec": {
   "display_name": "Python 3 (ipykernel)",
   "language": "python",
   "name": "python3"
  },
  "language_info": {
   "codemirror_mode": {
    "name": "ipython",
    "version": 3
   },
   "file_extension": ".py",
   "mimetype": "text/x-python",
   "name": "python",
   "nbconvert_exporter": "python",
   "pygments_lexer": "ipython3",
   "version": "3.11.4"
  }
 },
 "nbformat": 4,
 "nbformat_minor": 5
}
